{
 "cells": [
  {
   "cell_type": "markdown",
   "metadata": {
    "collapsed": true
   },
   "source": [
    "# Python极简入门"
   ]
  },
  {
   "cell_type": "markdown",
   "metadata": {},
   "source": [
    "## 1. 数据类型"
   ]
  },
  {
   "cell_type": "code",
   "execution_count": 23,
   "metadata": {},
   "outputs": [],
   "source": [
    "#!/usr/bin/env python\n",
    "# -*- coding: utf-8 -*-"
   ]
  },
  {
   "cell_type": "code",
   "execution_count": 2,
   "metadata": {},
   "outputs": [
    {
     "data": {
      "text/plain": [
       "1"
      ]
     },
     "execution_count": 2,
     "metadata": {},
     "output_type": "execute_result"
    }
   ],
   "source": [
    "i = 1\n",
    "i"
   ]
  },
  {
   "cell_type": "code",
   "execution_count": 3,
   "metadata": {},
   "outputs": [
    {
     "data": {
      "text/plain": [
       "1.0"
      ]
     },
     "execution_count": 3,
     "metadata": {},
     "output_type": "execute_result"
    }
   ],
   "source": [
    "f = 1.0\n",
    "f"
   ]
  },
  {
   "cell_type": "code",
   "execution_count": 4,
   "metadata": {},
   "outputs": [
    {
     "data": {
      "text/plain": [
       "2.0"
      ]
     },
     "execution_count": 4,
     "metadata": {},
     "output_type": "execute_result"
    }
   ],
   "source": [
    "f+i"
   ]
  },
  {
   "cell_type": "code",
   "execution_count": 5,
   "metadata": {},
   "outputs": [
    {
     "data": {
      "text/plain": [
       "'east196'"
      ]
     },
     "execution_count": 5,
     "metadata": {},
     "output_type": "execute_result"
    }
   ],
   "source": [
    "s = \"east196\"\n",
    "s"
   ]
  },
  {
   "cell_type": "code",
   "execution_count": 6,
   "metadata": {},
   "outputs": [
    {
     "data": {
      "text/plain": [
       "[1, 2, 3, 4]"
      ]
     },
     "execution_count": 6,
     "metadata": {},
     "output_type": "execute_result"
    }
   ],
   "source": [
    "l = [1,2,3,4]\n",
    "l"
   ]
  },
  {
   "cell_type": "code",
   "execution_count": 7,
   "metadata": {},
   "outputs": [
    {
     "data": {
      "text/plain": [
       "[1, 2, 3, 4, 5]"
      ]
     },
     "execution_count": 7,
     "metadata": {},
     "output_type": "execute_result"
    }
   ],
   "source": [
    "l.append(5)\n",
    "l"
   ]
  },
  {
   "cell_type": "code",
   "execution_count": 9,
   "metadata": {},
   "outputs": [
    {
     "data": {
      "text/plain": [
       "{'age': 18, 'name': 'east196'}"
      ]
     },
     "execution_count": 9,
     "metadata": {},
     "output_type": "execute_result"
    }
   ],
   "source": [
    "d = {\"name\":\"east196\",\"age\":18}\n",
    "d"
   ]
  },
  {
   "cell_type": "code",
   "execution_count": 10,
   "metadata": {},
   "outputs": [
    {
     "data": {
      "text/plain": [
       "'east196'"
      ]
     },
     "execution_count": 10,
     "metadata": {},
     "output_type": "execute_result"
    }
   ],
   "source": [
    "d[\"name\"]"
   ]
  },
  {
   "cell_type": "code",
   "execution_count": 11,
   "metadata": {},
   "outputs": [
    {
     "ename": "KeyError",
     "evalue": "'sex'",
     "traceback": [
      "\u001b[0;31m\u001b[0m",
      "\u001b[0;31mKeyError\u001b[0mTraceback (most recent call last)",
      "\u001b[0;32m<ipython-input-11-faf93356eb2d>\u001b[0m in \u001b[0;36m<module>\u001b[0;34m()\u001b[0m\n\u001b[0;32m----> 1\u001b[0;31m \u001b[0md\u001b[0m\u001b[1;33m[\u001b[0m\u001b[1;34m\"sex\"\u001b[0m\u001b[1;33m]\u001b[0m\u001b[1;33m\u001b[0m\u001b[0m\n\u001b[0m",
      "\u001b[0;31mKeyError\u001b[0m: 'sex'"
     ],
     "output_type": "error"
    }
   ],
   "source": [
    "d[\"sex\"]"
   ]
  },
  {
   "cell_type": "code",
   "execution_count": 12,
   "metadata": {},
   "outputs": [],
   "source": [
    "d.get(\"sex\")"
   ]
  },
  {
   "cell_type": "code",
   "execution_count": 13,
   "metadata": {},
   "outputs": [
    {
     "data": {
      "text/plain": [
       "'male'"
      ]
     },
     "execution_count": 13,
     "metadata": {},
     "output_type": "execute_result"
    }
   ],
   "source": [
    "d.get(\"sex\", \"male\")"
   ]
  },
  {
   "cell_type": "code",
   "execution_count": null,
   "metadata": {},
   "outputs": [],
   "source": [
    "d[\"sex\"] = \"male\"\n",
    "d[\"sex\"]"
   ]
  },
  {
   "cell_type": "markdown",
   "metadata": {},
   "source": [
    "## 2. 流程"
   ]
  },
  {
   "cell_type": "code",
   "execution_count": 18,
   "metadata": {},
   "outputs": [
    {
     "data": {
      "text/plain": [
       "2"
      ]
     },
     "execution_count": 18,
     "metadata": {},
     "output_type": "execute_result"
    }
   ],
   "source": [
    "a = 1\n",
    "b = 2\n",
    "a = b\n",
    "a"
   ]
  },
  {
   "cell_type": "code",
   "execution_count": 15,
   "metadata": {},
   "outputs": [
    {
     "name": "stdout",
     "output_type": "stream",
     "text": [
      "i>0\n"
     ]
    }
   ],
   "source": [
    "i = 10\n",
    "if i > 0:\n",
    "    print(\"i>0\")\n",
    "else:\n",
    "    print(\"i=0 or i<0\")"
   ]
  },
  {
   "cell_type": "code",
   "execution_count": 16,
   "metadata": {},
   "outputs": [
    {
     "name": "stdout",
     "output_type": "stream",
     "text": [
      "0\n1\n2\n3\n4\n5\n6\n7\n8\n9\n"
     ]
    }
   ],
   "source": [
    "for i in range(10):\n",
    "    print(i)"
   ]
  },
  {
   "cell_type": "code",
   "execution_count": 17,
   "metadata": {},
   "outputs": [
    {
     "name": "stdout",
     "output_type": "stream",
     "text": [
      "=\n==\n===\n"
     ]
    }
   ],
   "source": [
    "for i in [1,2,3]:\n",
    "    print(\"=\"*i)"
   ]
  },
  {
   "cell_type": "markdown",
   "metadata": {},
   "source": [
    "## 3. 函数\n",
    "可以类比 操作 \n",
    "\n",
    "例如 装箱操作，输入的是原材料+箱子，输出的是 成品"
   ]
  },
  {
   "cell_type": "code",
   "execution_count": 21,
   "metadata": {},
   "outputs": [],
   "source": [
    "real_box = \"箱子\"\n",
    "real_material = \"原材料\"\n",
    "\n",
    "\n",
    "def box_it(box, material):\n",
    "    return \"装入{box}的{material}\".format(box=box, material=material)"
   ]
  },
  {
   "cell_type": "markdown",
   "metadata": {},
   "source": [
    "只定义一个操作是没有意义的，你还要真的去操作"
   ]
  },
  {
   "cell_type": "code",
   "execution_count": 26,
   "metadata": {},
   "outputs": [
    {
     "name": "stdout",
     "output_type": "stream",
     "text": [
      "装入箱子的原材料\n"
     ]
    }
   ],
   "source": [
    "real = box_it(real_box,real_material)\n",
    "print(real)"
   ]
  },
  {
   "cell_type": "markdown",
   "metadata": {},
   "source": [
    "## 4. 类\n",
    "可以类比为 人 的这个定义\n",
    "\n",
    "人有自身的属性，比如姓名name、年龄age，可以对应类中的属性概念 \n",
    "\n",
    "同时人有可以执行的操作，比如吃饭eat、睡觉sleep、打豆豆beat_doudou。"
   ]
  },
  {
   "cell_type": "code",
   "execution_count": 30,
   "metadata": {},
   "outputs": [],
   "source": [
    "class Person():\n",
    "    def __init__(self, name, age):\n",
    "        self.name = name\n",
    "        self.age = age\n",
    "\n",
    "    def eat(self):\n",
    "        print(self.name + \" 吃饭\")\n",
    "\n",
    "\n",
    "    def sleep(self):\n",
    "        print(\"%s 睡觉\" % self.name)\n",
    "\n",
    "\n",
    "    def beat_doudou(self):\n",
    "        print(\"{name}打豆豆\".format(name=self.name))"
   ]
  },
  {
   "cell_type": "markdown",
   "metadata": {},
   "source": [
    "同样，定义一个类别叫做人，是个抽象的概念\n",
    "\n",
    "现实生活中，我们会具体到某一个人,比如east196"
   ]
  },
  {
   "cell_type": "code",
   "execution_count": 31,
   "metadata": {},
   "outputs": [
    {
     "name": "stdout",
     "output_type": "stream",
     "text": [
      "<__main__.Person instance at 0x0000000006055588>\n"
     ]
    }
   ],
   "source": [
    "east196 = Person(name=\"east196\",age=18)\n",
    "print(east196)"
   ]
  },
  {
   "cell_type": "code",
   "execution_count": 33,
   "metadata": {},
   "outputs": [
    {
     "name": "stdout",
     "output_type": "stream",
     "text": [
      "east196 吃饭\neast196 睡觉\neast196打豆豆\n"
     ]
    }
   ],
   "source": [
    "east196.eat()\n",
    "east196.sleep()\n",
    "east196.beat_doudou()"
   ]
  },
  {
   "cell_type": "markdown",
   "metadata": {},
   "source": [
    "和dict的区别？\n",
    "\n",
    "可以简单的认为dict代表属性\n",
    "\n",
    "def的函数代表操作\n",
    "\n",
    "对于一个特定的实体，比如说人，在不使用类的情况下可以这样表示"
   ]
  },
  {
   "cell_type": "code",
   "execution_count": 34,
   "metadata": {},
   "outputs": [],
   "source": [
    "east196 = {\"name\":\"east196\",\"age\":18}\n",
    "\n",
    "def eat(name):\n",
    "    print(name + \" 吃饭\")\n",
    "\n",
    "\n",
    "def sleep(name):\n",
    "    print(\"%s 睡觉\" % name)\n",
    "\n",
    "\n",
    "def beat_doudou(name):\n",
    "    print(\"{name}打豆豆\".format(name=name))"
   ]
  },
  {
   "cell_type": "code",
   "execution_count": 37,
   "metadata": {},
   "outputs": [
    {
     "name": "stdout",
     "output_type": "stream",
     "text": [
      "{'age': 18, 'name': 'east196'}\neast196 吃饭\neast196 睡觉\neast196打豆豆\n"
     ]
    }
   ],
   "source": [
    "print(east196)\n",
    "eat(east196[\"name\"])\n",
    "sleep(east196[\"name\"])\n",
    "beat_doudou(east196[\"name\"])"
   ]
  },
  {
   "cell_type": "markdown",
   "metadata": {},
   "source": [
    "看起来有点乱是不是？\n",
    "\n",
    "再看看class版本的east196，是不是更符合人类思维一点点？\n"
   ]
  },
  {
   "cell_type": "markdown",
   "metadata": {},
   "source": [
    "## 5. 类库\n",
    "python的标准库能够满足入门的需求\n"
   ]
  },
  {
   "cell_type": "code",
   "execution_count": 38,
   "metadata": {},
   "outputs": [
    {
     "name": "stdout",
     "output_type": "stream",
     "text": [
      "nt\n"
     ]
    }
   ],
   "source": [
    "import os\n",
    "\n",
    "print(os.name) # nt代表是windows"
   ]
  },
  {
   "cell_type": "markdown",
   "metadata": {},
   "source": [
    "\n",
    "然而如何应对现实世界的千奇百怪的需求？每个需求都自己从头开始？\n",
    "\n",
    "没有那么麻烦！python拥有数以千计的类库，几乎能想的到的产品都可以用python来做\n",
    "\n",
    "试试做个模版怎么样？"
   ]
  },
  {
   "cell_type": "code",
   "execution_count": 40,
   "metadata": {},
   "outputs": [
    {
     "name": "stdout",
     "output_type": "stream",
     "text": [
      "\n大王叫我来巡山\n抓个和尚做晚餐\n\n"
     ]
    }
   ],
   "source": [
    "print(\"\"\"\n",
    "大王叫我来巡山\n",
    "抓个和尚做晚餐\n",
    "\"\"\")"
   ]
  },
  {
   "cell_type": "markdown",
   "metadata": {},
   "source": [
    "发现了没？三个\"\"\"开头结尾的字符串是可以内部换行的"
   ]
  },
  {
   "cell_type": "code",
   "execution_count": 42,
   "metadata": {},
   "outputs": [],
   "source": [
    "s = \"\"\"\n",
    "{name}巡山\n",
    "抓和尚\n",
    "\"\"\".format(name=\"east196\")"
   ]
  },
  {
   "cell_type": "code",
   "execution_count": 43,
   "metadata": {},
   "outputs": [
    {
     "name": "stdout",
     "output_type": "stream",
     "text": [
      "\neast196巡山\n抓和尚\n\n"
     ]
    }
   ],
   "source": [
    "print(s)"
   ]
  },
  {
   "cell_type": "markdown",
   "metadata": {},
   "source": [
    "好吧，我有个兄弟叫east197，我们一起巡山？"
   ]
  },
  {
   "cell_type": "code",
   "execution_count": 44,
   "metadata": {},
   "outputs": [],
   "source": [
    "s = \"\"\"\n",
    "{name1}巡山\n",
    "{name2}巡山\n",
    "抓和尚\n",
    "\"\"\".format(name1=\"east196\",name2=\"east197\")"
   ]
  },
  {
   "cell_type": "code",
   "execution_count": 45,
   "metadata": {
    "collapsed": true
   },
   "outputs": [
    {
     "name": "stdout",
     "output_type": "stream",
     "text": [
      "\neast196巡山\neast197巡山\n抓和尚\n\n"
     ]
    }
   ],
   "source": [
    "print(s)"
   ]
  },
  {
   "cell_type": "markdown",
   "metadata": {},
   "source": [
    "有点丑，但是可以过关的\n",
    "\n",
    "但是我还有500个结义弟兄~~~\n",
    "\n",
    "python内置的这个format可是不支持循环的，写五百个name出来？\n",
    "\n",
    "玩不动了吧~~~\n",
    "\n",
    "有个叫jinja2的第三方库可以帮你\n",
    "\n",
    "在terminal的黑漆漆窗口下输入`pip install jinja2`就可以安装好"
   ]
  },
  {
   "cell_type": "markdown",
   "metadata": {},
   "source": [
    "> 如果你需要一个基础功能，多半网上已经有人实现。\n",
    "\n",
    "python的标准库容量和功能有限，我们需要强大的功能怎么办？\n",
    "\n",
    "很多爱好者在[pypi](笙惜)网站上发布了他们自己编写的功能，用pip命令就可以安装。"
   ]
  },
  {
   "cell_type": "code",
   "execution_count": 54,
   "metadata": {},
   "outputs": [
    {
     "name": "stdout",
     "output_type": "stream",
     "text": [
      "\n\neast0 巡山\n\neast1 巡山\n\neast2 巡山\n\neast3 巡山\n\neast4 巡山\n\n抓和尚\n"
     ]
    }
   ],
   "source": [
    "import jinja2\n",
    "\n",
    "# 先来5个，要500 弟兄就把range(5) 改成range(500)就好\n",
    "names = [u\"east{i}\".format(i=i) for i in range(5)]  # 列表推导式\n",
    "\n",
    "sentence = jinja2.Template(u\"\"\"\n",
    "{% for name in names %}\n",
    "{{ name }} 巡山\n",
    "{% endfor %}\n",
    "抓和尚\"\"\").render(names=names)\n",
    "\n",
    "print(sentence)"
   ]
  },
  {
   "cell_type": "code",
   "execution_count": null,
   "metadata": {},
   "outputs": [],
   "source": [
    ""
   ]
  }
 ],
 "metadata": {
  "kernelspec": {
   "display_name": "Python 2",
   "language": "python",
   "name": "python2"
  },
  "language_info": {
   "codemirror_mode": {
    "name": "ipython",
    "version": 2.0
   },
   "file_extension": ".py",
   "mimetype": "text/x-python",
   "name": "python",
   "nbconvert_exporter": "python",
   "pygments_lexer": "ipython2",
   "version": "2.7.6"
  }
 },
 "nbformat": 4,
 "nbformat_minor": 0
}